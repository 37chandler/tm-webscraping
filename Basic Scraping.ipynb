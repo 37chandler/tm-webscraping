{
 "cells": [
  {
   "cell_type": "markdown",
   "metadata": {},
   "source": [
    "A notebook that does some basic webscraping using the `requests` library."
   ]
  },
  {
   "cell_type": "code",
   "execution_count": 1,
   "metadata": {},
   "outputs": [],
   "source": [
    "import requests  # To get the pages\n",
    "from bs4 import BeautifulSoup # and to process them"
   ]
  },
  {
   "cell_type": "markdown",
   "metadata": {},
   "source": [
    "Let's scrape some webpages for some politicians. As I write this, the obvious candidates (pun intended) are Donald Trump and \n",
    "Joe Biden. Feel free to adjust the URLs to candidates that you find interesting. We may use these in some other contexts, so having two candidates on different sides of some issue could be nice. "
   ]
  },
  {
   "cell_type": "code",
   "execution_count": 2,
   "metadata": {},
   "outputs": [],
   "source": [
    "sites = [\"https://joebiden.com/\",\n",
    "         \"https://www.donaldjtrump.com/\"]"
   ]
  },
  {
   "cell_type": "markdown",
   "metadata": {},
   "source": [
    "Let's take a look at the site in the first spot of our list. "
   ]
  },
  {
   "cell_type": "code",
   "execution_count": 5,
   "metadata": {},
   "outputs": [
    {
     "name": "stdout",
     "output_type": "stream",
     "text": [
      "https://joebiden.com/\n"
     ]
    },
    {
     "data": {
      "text/plain": [
       "200"
      ]
     },
     "execution_count": 5,
     "metadata": {},
     "output_type": "execute_result"
    }
   ],
   "source": [
    "print(sites[0])\n",
    "r = requests.get(sites[0])\n",
    "r.status_code"
   ]
  },
  {
   "cell_type": "code",
   "execution_count": 4,
   "metadata": {},
   "outputs": [
    {
     "data": {
      "text/plain": [
       "200"
      ]
     },
     "execution_count": 4,
     "metadata": {},
     "output_type": "execute_result"
    }
   ],
   "source": [
    "r.status_code"
   ]
  },
  {
   "cell_type": "markdown",
   "metadata": {},
   "source": [
    "After you pull a page, it's a good idea to see what the status code is. Here's a [link](https://developer.mozilla.org/en-US/docs/Web/HTTP/Status) to what the numbers mean. \n",
    "\n",
    "Now let's look at the text that's on the page. Warning, this is going to be a mess."
   ]
  },
  {
   "cell_type": "code",
   "execution_count": 6,
   "metadata": {},
   "outputs": [
    {
     "data": {
      "text/plain": [
       "'<!DOCTYPE HTML>\\n<html lang=\"en\">\\n<head>\\n<title>Home | Donald J. Trump</title>\\n<meta property=\"og:title\" content=\"Save America\" />\\n<meta name=\"twitter:title\" content=\"Save America\">\\n<meta name=\"description\" content=\"Over the past four years, Donald J. Trump\\'s administration delivered for Americans of all backgrounds like never before. Save America is about building on those accomplishments!\">\\n<meta property=\"og:description\" content=\"Over the past four years, Donald J. Trump\\'s administration delivered for Americans of all backgrounds like never before. Save America is about building on those accomplishments!\" />\\n<meta name=\"twitter:description\" content=\"Over the past four years, Donald J. Trump\\'s administration delivered for Americans of all backgrounds like never before. Save America is about building on those accomplishments!\">\\n<meta property=\"og:image\" content=\"https://cdn.donaldjtrump.com/djtweb/general/seo-image.jpg\" />\\n<meta name=\"twitter:image\" content=\"https://cdn.donaldjtrump.com/djtweb/general/seo-image.jpg\" />\\n<meta name=\"twitter:card\" content=\"summary_large_image\" />\\n<meta name=\"twitter:site\" content=\"@\" />\\n<meta property=\"og:image:type\" content=\"image/jpeg\" />\\n<meta property=\"og:image:width\" content=\"1200\" />\\n<meta property=\"og:image:height\" content=\"628\" />\\n<meta http-equiv=\"Content-Type\" content=\"text/html; charset=utf-8\" />\\n<meta name=\"viewport\" content=\"width=device-width, initial-scale=1.0, maximum-scale=5.0, user-scalable=1\">\\n<link rel=\"shortcut icon\" href=\"https://assets.donaldjtrump.com/2017/web/hero_images/SAV_Favicon.png\">\\n<link rel=\"icon\" type=\"image/png\" sizes=\"32x32\" href=\"https://assets.donaldjtrump.com/2017/web/hero_images/SAV_Favicon32x32.png\">\\n<link rel=\"icon\" type=\"image/png\" sizes=\"16x16\" href=\"https://assets.donaldjtrump.com/2017/web/hero_images/SAV_Favicon16x16.png\">\\n<link rel=\"preconnect\" href=\"https://fonts.gstatic.com\">\\n<link href=\"https://fonts.googleapis.com/css2?family=Montserrat:wght@300;400;600;700;800&display=swap\" rel=\"stylesheet\">\\n\\n<link rel=\"stylesheet\" href=\"/assets/css/site.css?v=1GtK6Mbnnc9cijdqHQznzfRJ067X0LMo\" type=\"text/css\" />\\n\\n<script>(function(w,d,s,l,i){w[l]=w[l]||[];w[l].push({\\'gtm.start\\':\\nnew Date().getTime(),event:\\'gtm.js\\'});var f=d.getElementsByTagName(s)[0],\\nj=d.createElement(s),dl=l!=\\'dataLayer\\'?\\'&l=\\'+l:\\'\\';j.async=true;j.src=\\n\\'https://www.googletagmanager.com/gtm.js?id=\\'+i+dl;f.parentNode.insertBefore(j,f);\\n})(window,document,\\'script\\',\\'dataLayer\\',\\'GTM-M27JCG\\');</script>\\n\\n\\n<noscript><iframe src=\"https://www.googletagmanager.com/ns.html?id=GTM-M27JCG\"\\nheight=\"0\" width=\"0\" style=\"display:none;visibility:hidden\"></iframe></noscript>\\n\\n\\n</head>\\n<body class=\"home has-popup\">\\n<script>\\n\\t\\tvar bodyEl = document.body;\\n\\t\\tvar viewportWidth = window.innerWidth || document.documentElement.clientWidth;\\n\\t\\tif (viewportWidth > 960) {bodyEl.classList.add(\\'is-header-desktop\\');} else {bodyEl.classList.add(\\'is-header-mobile\\');}\\n\\t</script>\\n<a href=\"#main\" id=\"skipnav\">Skip to main content</a>\\n<div id=\"wrapper\">\\n<header id=\"header\" role=\"banner\" aria-label=\"Header\">\\n<div class=\"container\">\\n<a href=\"/\" id=\"header-logo\" class=\"logo icon\">Back to Home Page</a>\\n<div class=\"mobile-buttons flex flex-1 flex-justify-end\">\\n<ul class=\"flex flex-align-center\">\\n<li class=\"level-1\">\\n<a href=\"https://secure.winred.com/save-america-joint-fundraising-committee/storefront?location=djt_sa_header\" class=\"level-1-link btn btn-text-white btn-border-white\" target=\"_blank\">Shop</a>\\n</li>\\n<li class=\"level-1\">\\n<a href=\"https://secure.winred.com/save-america-joint-fundraising-committee/early-renewal-founding-membership/?recurring=true&money_pledge=true&amount=100&utm_medium=homepage&utm_source=na_na_na&utm_campaign=homepage-button_na_saveamerica&utm_content=donate_cpyrs_na\" class=\"level-1-link btn btn-filled\" target=\"_blank\">Contribute</a>\\n</li>\\n</ul>\\n</div>\\n<div class=\"button-container\">\\n<button id=\"mobile-menu-trigger\" aria-expanded=\"false\" aria-controls=\"header-nav\" aria-label=\"Open Menu\"><span></span><span></span><span></span><span></span></button>\\n</div>\\n<nav id=\"header-nav\" role=\"navigation\" class=\"nav\" aria-label=\"Primary Navigation\">\\n<ul>\\n<li class=\"level-1\">\\n<a href=\"/about\" class=\"level-1-link\">About</a>\\n</li>\\n<li class=\"level-1\">\\n<a href=\"/events\" class=\"level-1-link\">Events</a>\\n</li>\\n<li class=\"level-1\">\\n<a href=\"/news\" class=\"level-1-link\">News</a>\\n</li>\\n<li class=\"level-1\">\\n<a href=\"/alerts\" class=\"level-1-link\">Alerts</a>\\n</li>\\n<li class=\"level-1\">\\n<a href=\"https://www.45office.com/?location=djt_sa_header\" class=\"level-1-link\" target=\"_blank\">Contact</a>\\n</li>\\n<li class=\"level-1\">\\n<a href=\"https://secure.winred.com/save-america-joint-fundraising-committee/storefront?location=djt_sa_header\" class=\"level-1-link btn btn-text-white btn-border-white\" target=\"_blank\">Shop</a>\\n</li>\\n<li class=\"level-1\">\\n<a href=\"https://secure.winred.com/save-america-joint-fundraising-committee/early-renewal-founding-membership/?recurring=true&money_pledge=true&amount=100&utm_medium=homepage&utm_source=na_na_na&utm_campaign=homepage-button_na_saveamerica&utm_content=donate_cpyrs_na\" class=\"level-1-link btn btn-filled\" target=\"_blank\">Contribute</a>\\n</li>\\n</ul>\\n</nav>\\n</div>\\n</header>\\n<main role=\"main\" id=\"main\">\\n<section class=\"banner banner-tall full-bg full-bg-top-left light-txt banner-image-light\" style=\"background-image: url(https://cdn.donaldjtrump.com/djtweb/general/P20200310TD-0035_p_3mb.jpg);\">\\n<div class=\"container flex flex-align-bottom\">\\n<div class=\"content\">\\n<h1 class=\"title-lrg-1\">Together, we are <br>rebuilding our nation</h1>\\n<a href=\"https://secure.winred.com/save-america-joint-fundraising-committee/early-renewal-founding-membership/?recurring=true&money_pledge=true&amount=100&utm_medium=homepage&utm_source=na_na_na&utm_campaign=homepage-button_na_saveamerica&utm_content=donate_cpyrs_na\" class=\"btn arrow-btn btn-text-white btn-border-white btn-large\" target=\"_blank\">Contribute<span class=\"arrow\"></span></a>\\n</div>\\n</div>\\n</section>\\n<section class=\"callout centered vp-50 m-content-15 light-txt bg-red\">\\n<div class=\"container\">\\n<h2 class=\"title-med-1\">Help fulfill our promise to Make America Great Again!</h2>\\n<p class=\"m-0a\">Join Our Movement!</p>\\n<div class=\"signup-form d-ib\">\\n<form id=\"new_submission\" class=\" newsletter_signup\" method=\"post\" action=\" \" enctype=\"multipart/form-data\">\\n<div class=\\'hiddenFields\\'>\\n<input type=\"hidden\" name=\"ACT\" value=\"31\" />\\n<input type=\"hidden\" name=\"FDATA\" value=\"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\" />\\n<input type=\"hidden\" name=\"site_id\" value=\"1\" />\\n<input type=\"hidden\" name=\"csrf_token\" value=\"d4616487e7f4f50078f543df6534442095264a03\" />\\n</div>\\n<div class=\"dform\"><div class=\"dform_element dform_email dftop_label field_email dform_required\" id=\"forms_field_1\" style=\"\"><label class=\"dform_label\" for=\"ddform_1\">Email <span class=\"req\">*</span></label><div class=\"dform_container\"><input type=\"email\" name=\"fields[1]\" value=\"\" class=\"text  required validate[required,custom[email]] \" id=\"ddform_1\" placeholder=\"Enter your email*\" data-placeholder=\"Enter your email*\" /></div></div><div class=\"dform_element dform_text_input dftop_label field_phone \" id=\"forms_field_16\" style=\"\"><label class=\"dform_label\" for=\"ddform_16\">Phone</label><div class=\"dform_container\"><input type=\"text\" name=\"fields[16]\" value=\"\" class=\"text \" id=\"ddform_16\" placeholder=\"Phone\" data-placeholder=\"Phone\" /></div></div><div class=\"dform_element dform_text_input dftop_label field_zip dform_required\" id=\"forms_field_2\" style=\"\"><label class=\"dform_label\" for=\"ddform_2\">Zip <span class=\"req\">*</span></label><div class=\"dform_container\"><input type=\"text\" name=\"fields[2]\" value=\"\" class=\"text required validate[required] \" id=\"ddform_2\" placeholder=\"Zip*\" data-placeholder=\"Zip*\" /></div></div><div class=\"dform_element dform_html field_untitled \" id=\"forms_field_17\" style=\"\"><label class=\"dform_label\" for=\"ddform_17\">Untitled</label><div class=\"dform_container\"><div class=\"disclaimer\"><p>By providing your phone number, you are consenting to receive\\ncalls and SMS/MMS msgs, including autodialed and automated\\ncalls and texts, to that number from Save America JFC.\\nMsg&amp;data rates may apply. Terms & conditions/privacy policy\\napply <a target=\"_blank\" href=\"https://txtterms.co/88022/\">txtterms.co/88022.</a></p></div></div></div><div class=\"dform_element submit_button\"> <div class=\"dform_container\"><div class=\"dfinput_full\"><input type=\"submit\" class=\"submit\" name=\"submit_button\" value=\"Save\" data-value=\"Save\" data-wait=\"Verifying...\" /></div></div></div></div></form>\\n</div>\\n</div>\\n</section>\\n<section class=\"callout centered vp-80 m-content-15\">\\n<div class=\"container\">\\n<h2 class=\"title-med-1\">Get Involved</h2>\\n<p class=\"m-0a\">On November 8, 2016, the American People delivered a historic victory and took our country back. This victory was the result of a Movement to put America first, to save the American economy, and to make America once again a shining city on the hill. But our Movement cannot stop now - we still have much work to do.</p>\\n<a href=\"https://secure.winred.com/save-america-joint-fundraising-committee/membership?location=djt_sa_callout\" class=\"btn\" target=\"_blank\">Contribute</a>\\n</div>\\n<span class=\"image full-bg\" style=\"background-image: url(https://cdn.donaldjtrump.com/djtweb/general/callout_about.jpeg);\"></span>\\n</section>\\n</main>\\n</div>\\n<div id=\"footer-wrapper\">\\n<footer id=\"footer\" role=\"contentinfo\" class=\"light-txt\">\\n<div class=\"container\">\\n<div class=\"footer-top flex\">\\n<div class=\"footer-signup flex flex-1\">\\n<div>\\n<p class=\"title\">Join Our Movement</p>\\n<div class=\"signup-form\">\\n<form id=\"new_submission\" class=\" newsletter_signup\" method=\"post\" action=\" \" enctype=\"multipart/form-data\">\\n<div class=\\'hiddenFields\\'>\\n<input type=\"hidden\" name=\"ACT\" value=\"31\" />\\n<input type=\"hidden\" name=\"FDATA\" value=\"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\" />\\n<input type=\"hidden\" name=\"site_id\" value=\"1\" />\\n<input type=\"hidden\" name=\"csrf_token\" value=\"d4616487e7f4f50078f543df6534442095264a03\" />\\n</div>\\n<div class=\"dform\"><div class=\"dform_element dform_email dftop_label field_email dform_required\" id=\"forms_field_1\" style=\"\"><label class=\"dform_label\" for=\"ddform_1\">Email <span class=\"req\">*</span></label><div class=\"dform_container\"><input type=\"email\" name=\"fields[1]\" value=\"\" class=\"text  required validate[required,custom[email]] \" id=\"ddform_1\" placeholder=\"Enter your email*\" data-placeholder=\"Enter your email*\" /></div></div><div class=\"dform_element dform_text_input dftop_label field_phone \" id=\"forms_field_16\" style=\"\"><label class=\"dform_label\" for=\"ddform_16\">Phone</label><div class=\"dform_container\"><input type=\"text\" name=\"fields[16]\" value=\"\" class=\"text \" id=\"ddform_16\" placeholder=\"Phone\" data-placeholder=\"Phone\" /></div></div><div class=\"dform_element dform_text_input dftop_label field_zip dform_required\" id=\"forms_field_2\" style=\"\"><label class=\"dform_label\" for=\"ddform_2\">Zip <span class=\"req\">*</span></label><div class=\"dform_container\"><input type=\"text\" name=\"fields[2]\" value=\"\" class=\"text required validate[required] \" id=\"ddform_2\" placeholder=\"Zip*\" data-placeholder=\"Zip*\" /></div></div><div class=\"dform_element dform_html field_untitled \" id=\"forms_field_17\" style=\"\"><label class=\"dform_label\" for=\"ddform_17\">Untitled</label><div class=\"dform_container\"><div class=\"disclaimer\"><p>By providing your phone number, you are consenting to receive\\ncalls and SMS/MMS msgs, including autodialed and automated\\ncalls and texts, to that number from Save America JFC.\\nMsg&amp;data rates may apply. Terms & conditions/privacy policy\\napply <a target=\"_blank\" href=\"https://txtterms.co/88022/\">txtterms.co/88022.</a></p></div></div></div><div class=\"dform_element submit_button\"> <div class=\"dform_container\"><div class=\"dfinput_full\"><input type=\"submit\" class=\"submit\" name=\"submit_button\" value=\"Save\" data-value=\"Save\" data-wait=\"Verifying...\" /></div></div></div></div></form>\\n</div>\\n</div>\\n</div>\\n<div class=\"footer-social\">\\n<p class=\"title\">Follow Us</p>\\n<ul class=\"list-social\">\\n<li class=\"footer-social-link\"><a href=\"https://www.facebook.com/officialteamtrump\" target=\"_blank\" class=\"icon facebook\">Facebook</a></li>\\n<li class=\"footer-social-link\"><a href=\"https://www.instagram.com/teamtrump\" target=\"_blank\" class=\"icon instagram\">Instagram</a></li>\\n</ul>\\n </div>\\n</div>\\n<div class=\"footer-bottom flex flex-align-center\">\\n<p class=\"footer-legal flex flex-1\">Paid for by Save America JFC, a joint fundraising committee of Save America and Make America Great Again PAC. Not authorized by any candidate or candidate’s committee. donaldjtrump.com</p>\\n<ul class=\"footer-links flex\">\\n<li><a href=\"/privacy-policy/\">Privacy Policy</a></li>\\n<li><a href=\"/terms-of-service/\">Terms & Conditions</a></li>\\n<li><a href=\"https://www.campaignnucleus.com/?location=djt_sa_footer\" target=\"_blank\" rel=\"nofollow\">Powered by Nucleus</a></li>\\n</ul>\\n</div>\\n</div>\\n\\n<script>\\n!function(f,b,e,v,n,t,s){if(f.fbq)return;n=f.fbq=function(){n.callMethod?\\nn.callMethod.apply(n,arguments):n.queue.push(arguments)};if(!f._fbq)f._fbq=n;\\nn.push=n;n.loaded=!0;n.version=\\'2.0\\';n.queue=[];t=b.createElement(e);t.async=!0;\\nt.src=v;s=b.getElementsByTagName(e)[0];s.parentNode.insertBefore(t,s)}(window,\\ndocument,\\'script\\',\\'//connect.facebook.net/en_US/fbevents.js\\');\\n\\nfbq(\\'init\\', \\'2558854747672869\\');\\nfbq(\\'track\\', \"PageView\");</script>\\n<noscript>\\n    <img height=\"1\" width=\"1\" style=\"display:none\" src=\"https://www.facebook.com/tr?id=2558854747672869&ev=PageView&noscript=1\"/>\\n</noscript>\\n\\n</footer>\\n</div>\\n<div id=\"home-popup\" class=\"popup\" role=\"dialog\" aria-labelledby=\"popup-title\" aria-describedby=\"popup-description\" aria-hidden=\"true\">\\n<div class=\"content-wrapper\">\\n<div class=\"content\">\\n<button type=\"button\" aria-label=\"Close Popup\" class=\"close-popup icon\"></button>\\n<a href=\"https://secure.winred.com/save-america-joint-fundraising-committee/sept-eoq-800-hp?recurring=true&money_pledge=true&amount=100&utm_medium=homepage&utm_source=na_na_na&utm_campaign=sept22-eoq-homepage_na_saveamerica&utm_content=donate_cpyrs_na\" target=\"_blank\" class=\"image\">\\n<img src=\"https://cdn.donaldjtrump.com/djtweb/general/20220228_Save-America_Pop-Ups_v4_2.png\" alt=\"\">\\n</a>\\n</div>\\n</div>\\n</div>\\n<script src=\"/assets/js/vendor.js?v=1GtK6Mbnnc9cijdqHQznzfRJ067X0LMo\"></script>\\n<script src=\"https://cdnjs.cloudflare.com/ajax/libs/jscroll/2.4.1/jquery.jscroll.min.js\"></script>\\n<script src=\"/assets/js/app.js?v=1GtK6Mbnnc9cijdqHQznzfRJ067X0LMo\"></script>\\n<script>\\n      $(document).ready(function(){\\n         $(\\'#mobile-menu-trigger\\').click(function(e){\\n            if ($(window).width() > 768) {\\n            } else {\\n               const targetElement = document.querySelector(\"#header-nav\");\\n               if ($(this).attr(\\'aria-expanded\\') == \\'false\\'){bodyScrollLock.enableBodyScroll(targetElement);} else {bodyScrollLock.disableBodyScroll(targetElement);}\\n            }\\n         });\\n      });\\n      </script>\\n</body>\\n</html>'"
      ]
     },
     "execution_count": 6,
     "metadata": {},
     "output_type": "execute_result"
    }
   ],
   "source": [
    "r.text"
   ]
  },
  {
   "cell_type": "markdown",
   "metadata": {},
   "source": [
    "I was right, that page was a mess, so let's try Beautiful Soup:"
   ]
  },
  {
   "cell_type": "code",
   "execution_count": 7,
   "metadata": {},
   "outputs": [],
   "source": [
    "soup = BeautifulSoup(r.text, 'html.parser')"
   ]
  },
  {
   "cell_type": "markdown",
   "metadata": {},
   "source": [
    "We can print a prettier version, but it's not _that_ much prettier."
   ]
  },
  {
   "cell_type": "code",
   "execution_count": 8,
   "metadata": {},
   "outputs": [
    {
     "name": "stdout",
     "output_type": "stream",
     "text": [
      "<!DOCTYPE HTML>\n",
      "<html lang=\"en\">\n",
      " <head>\n",
      "  <title>\n",
      "   Home | Donald J. Trump\n",
      "  </title>\n",
      "  <meta content=\"Save America\" property=\"og:title\"/>\n",
      "  <meta content=\"Save America\" name=\"twitter:title\"/>\n",
      "  <meta content=\"Over the past four years, Donald J. Trump's administration delivered for Americans of all backgrounds like never before. Save America is about building on those accomplishments!\" name=\"description\"/>\n",
      "  <meta content=\"Over the past four years, Donald J. Trump's administration delivered for Americans of all backgrounds like never before. Save America is about building on those accomplishments!\" property=\"og:description\">\n",
      "   <meta content=\"Over the past four years, Donald J. Trump's administration delivered for Americans of all backgrounds like never before. Save America is about building on those accomplishments!\" name=\"twitter:description\"/>\n",
      "   <meta content=\"https://cdn.donaldjtrump.com/djtweb/general/seo-image.jpg\" property=\"og:image\">\n",
      "    <meta content=\"https://cdn.donaldjtrump.com/djtweb/general/seo-image.jpg\" name=\"twitter:image\">\n",
      "     <meta content=\"summary_large_image\" name=\"twitter:card\"/>\n",
      "     <meta content=\"@\" name=\"twitter:site\"/>\n",
      "     <meta content=\"image/jpeg\" property=\"og:image:type\"/>\n",
      "     <meta content=\"1200\" property=\"og:image:width\"/>\n",
      "     <meta content=\"628\" property=\"og:image:height\"/>\n",
      "     <meta content=\"text/html; charset=utf-8\" http-equiv=\"Content-Type\"/>\n",
      "     <meta content=\"width=device-width, initial-scale=1.0, maximum-scale=5.0, user-scalable=1\" name=\"viewport\"/>\n",
      "     <link href=\"https://assets.donaldjtrump.com/2017/web/hero_images/SAV_Favicon.png\" rel=\"shortcut icon\"/>\n",
      "     <link href=\"https://assets.donaldjtrump.com/2017/web/hero_images/SAV_Favicon32x32.png\" rel=\"icon\" sizes=\"32x32\" type=\"image/png\"/>\n",
      "     <link href=\"https://assets.donaldjtrump.com/2017/web/hero_images/SAV_Favicon16x16.png\" rel=\"icon\" sizes=\"16x16\" type=\"image/png\"/>\n",
      "     <link href=\"https://fonts.gstatic.com\" rel=\"preconnect\"/>\n",
      "     <link href=\"https://fonts.googleapis.com/css2?family=Montserrat:wght@300;400;600;700;800&amp;display=swap\" rel=\"stylesheet\"/>\n",
      "     <link href=\"/assets/css/site.css?v=1GtK6Mbnnc9cijdqHQznzfRJ067X0LMo\" rel=\"stylesheet\" type=\"text/css\">\n",
      "      <script>\n",
      "       (function(w,d,s,l,i){w[l]=w[l]||[];w[l].push({'gtm.start':\n",
      "new Date().getTime(),event:'gtm.js'});var f=d.getElementsByTagName(s)[0],\n",
      "j=d.createElement(s),dl=l!='dataLayer'?'&l='+l:'';j.async=true;j.src=\n",
      "'https://www.googletagmanager.com/gtm.js?id='+i+dl;f.parentNode.insertBefore(j,f);\n",
      "})(window,document,'script','dataLayer','GTM-M27JCG');\n",
      "      </script>\n",
      "      <noscript>\n",
      "       <iframe height=\"0\" src=\"https://www.googletagmanager.com/ns.html?id=GTM-M27JCG\" style=\"display:none;visibility:hidden\" width=\"0\">\n",
      "       </iframe>\n",
      "      </noscript>\n",
      "     </link>\n",
      "    </meta>\n",
      "   </meta>\n",
      "  </meta>\n",
      " </head>\n",
      " <body class=\"home has-popup\">\n",
      "  <script>\n",
      "   var bodyEl = document.body;\n",
      "\t\tvar viewportWidth = window.innerWidth || document.documentElement.clientWidth;\n",
      "\t\tif (viewportWidth > 960) {bodyEl.classList.add('is-header-desktop');} else {bodyEl.classList.add('is-header-mobile');}\n",
      "  </script>\n",
      "  <a href=\"#main\" id=\"skipnav\">\n",
      "   Skip to main content\n",
      "  </a>\n",
      "  <div id=\"wrapper\">\n",
      "   <header aria-label=\"Header\" id=\"header\" role=\"banner\">\n",
      "    <div class=\"container\">\n",
      "     <a class=\"logo icon\" href=\"/\" id=\"header-logo\">\n",
      "      Back to Home Page\n",
      "     </a>\n",
      "     <div class=\"mobile-buttons flex flex-1 flex-justify-end\">\n",
      "      <ul class=\"flex flex-align-center\">\n",
      "       <li class=\"level-1\">\n",
      "        <a class=\"level-1-link btn btn-text-white btn-border-white\" href=\"https://secure.winred.com/save-america-joint-fundraising-committee/storefront?location=djt_sa_header\" target=\"_blank\">\n",
      "         Shop\n",
      "        </a>\n",
      "       </li>\n",
      "       <li class=\"level-1\">\n",
      "        <a class=\"level-1-link btn btn-filled\" href=\"https://secure.winred.com/save-america-joint-fundraising-committee/early-renewal-founding-membership/?recurring=true&amp;money_pledge=true&amp;amount=100&amp;utm_medium=homepage&amp;utm_source=na_na_na&amp;utm_campaign=homepage-button_na_saveamerica&amp;utm_content=donate_cpyrs_na\" target=\"_blank\">\n",
      "         Contribute\n",
      "        </a>\n",
      "       </li>\n",
      "      </ul>\n",
      "     </div>\n",
      "     <div class=\"button-container\">\n",
      "      <button aria-controls=\"header-nav\" aria-expanded=\"false\" aria-label=\"Open Menu\" id=\"mobile-menu-trigger\">\n",
      "       <span>\n",
      "       </span>\n",
      "       <span>\n",
      "       </span>\n",
      "       <span>\n",
      "       </span>\n",
      "       <span>\n",
      "       </span>\n",
      "      </button>\n",
      "     </div>\n",
      "     <nav aria-label=\"Primary Navigation\" class=\"nav\" id=\"header-nav\" role=\"navigation\">\n",
      "      <ul>\n",
      "       <li class=\"level-1\">\n",
      "        <a class=\"level-1-link\" href=\"/about\">\n",
      "         About\n",
      "        </a>\n",
      "       </li>\n",
      "       <li class=\"level-1\">\n",
      "        <a class=\"level-1-link\" href=\"/events\">\n",
      "         Events\n",
      "        </a>\n",
      "       </li>\n",
      "       <li class=\"level-1\">\n",
      "        <a class=\"level-1-link\" href=\"/news\">\n",
      "         News\n",
      "        </a>\n",
      "       </li>\n",
      "       <li class=\"level-1\">\n",
      "        <a class=\"level-1-link\" href=\"/alerts\">\n",
      "         Alerts\n",
      "        </a>\n",
      "       </li>\n",
      "       <li class=\"level-1\">\n",
      "        <a class=\"level-1-link\" href=\"https://www.45office.com/?location=djt_sa_header\" target=\"_blank\">\n",
      "         Contact\n",
      "        </a>\n",
      "       </li>\n",
      "       <li class=\"level-1\">\n",
      "        <a class=\"level-1-link btn btn-text-white btn-border-white\" href=\"https://secure.winred.com/save-america-joint-fundraising-committee/storefront?location=djt_sa_header\" target=\"_blank\">\n",
      "         Shop\n",
      "        </a>\n",
      "       </li>\n",
      "       <li class=\"level-1\">\n",
      "        <a class=\"level-1-link btn btn-filled\" href=\"https://secure.winred.com/save-america-joint-fundraising-committee/early-renewal-founding-membership/?recurring=true&amp;money_pledge=true&amp;amount=100&amp;utm_medium=homepage&amp;utm_source=na_na_na&amp;utm_campaign=homepage-button_na_saveamerica&amp;utm_content=donate_cpyrs_na\" target=\"_blank\">\n",
      "         Contribute\n",
      "        </a>\n",
      "       </li>\n",
      "      </ul>\n",
      "     </nav>\n",
      "    </div>\n",
      "   </header>\n",
      "   <main id=\"main\" role=\"main\">\n",
      "    <section class=\"banner banner-tall full-bg full-bg-top-left light-txt banner-image-light\" style=\"background-image: url(https://cdn.donaldjtrump.com/djtweb/general/P20200310TD-0035_p_3mb.jpg);\">\n",
      "     <div class=\"container flex flex-align-bottom\">\n",
      "      <div class=\"content\">\n",
      "       <h1 class=\"title-lrg-1\">\n",
      "        Together, we are\n",
      "        <br/>\n",
      "        rebuilding our nation\n",
      "       </h1>\n",
      "       <a class=\"btn arrow-btn btn-text-white btn-border-white btn-large\" href=\"https://secure.winred.com/save-america-joint-fundraising-committee/early-renewal-founding-membership/?recurring=true&amp;money_pledge=true&amp;amount=100&amp;utm_medium=homepage&amp;utm_source=na_na_na&amp;utm_campaign=homepage-button_na_saveamerica&amp;utm_content=donate_cpyrs_na\" target=\"_blank\">\n",
      "        Contribute\n",
      "        <span class=\"arrow\">\n",
      "        </span>\n",
      "       </a>\n",
      "      </div>\n",
      "     </div>\n",
      "    </section>\n",
      "    <section class=\"callout centered vp-50 m-content-15 light-txt bg-red\">\n",
      "     <div class=\"container\">\n",
      "      <h2 class=\"title-med-1\">\n",
      "       Help fulfill our promise to Make America Great Again!\n",
      "      </h2>\n",
      "      <p class=\"m-0a\">\n",
      "       Join Our Movement!\n",
      "      </p>\n",
      "      <div class=\"signup-form d-ib\">\n",
      "       <form action=\" \" class=\"newsletter_signup\" enctype=\"multipart/form-data\" id=\"new_submission\" method=\"post\">\n",
      "        <div class=\"hiddenFields\">\n",
      "         <input name=\"ACT\" type=\"hidden\" value=\"31\"/>\n",
      "         <input name=\"FDATA\" type=\"hidden\" value=\"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\"/>\n",
      "         <input name=\"site_id\" type=\"hidden\" value=\"1\"/>\n",
      "         <input name=\"csrf_token\" type=\"hidden\" value=\"d4616487e7f4f50078f543df6534442095264a03\"/>\n",
      "        </div>\n",
      "        <div class=\"dform\">\n",
      "         <div class=\"dform_element dform_email dftop_label field_email dform_required\" id=\"forms_field_1\" style=\"\">\n",
      "          <label class=\"dform_label\" for=\"ddform_1\">\n",
      "           Email\n",
      "           <span class=\"req\">\n",
      "            *\n",
      "           </span>\n",
      "          </label>\n",
      "          <div class=\"dform_container\">\n",
      "           <input class=\"text required validate[required,custom[email]]\" data-placeholder=\"Enter your email*\" id=\"ddform_1\" name=\"fields[1]\" placeholder=\"Enter your email*\" type=\"email\" value=\"\"/>\n",
      "          </div>\n",
      "         </div>\n",
      "         <div class=\"dform_element dform_text_input dftop_label field_phone\" id=\"forms_field_16\" style=\"\">\n",
      "          <label class=\"dform_label\" for=\"ddform_16\">\n",
      "           Phone\n",
      "          </label>\n",
      "          <div class=\"dform_container\">\n",
      "           <input class=\"text\" data-placeholder=\"Phone\" id=\"ddform_16\" name=\"fields[16]\" placeholder=\"Phone\" type=\"text\" value=\"\"/>\n",
      "          </div>\n",
      "         </div>\n",
      "         <div class=\"dform_element dform_text_input dftop_label field_zip dform_required\" id=\"forms_field_2\" style=\"\">\n",
      "          <label class=\"dform_label\" for=\"ddform_2\">\n",
      "           Zip\n",
      "           <span class=\"req\">\n",
      "            *\n",
      "           </span>\n",
      "          </label>\n",
      "          <div class=\"dform_container\">\n",
      "           <input class=\"text required validate[required]\" data-placeholder=\"Zip*\" id=\"ddform_2\" name=\"fields[2]\" placeholder=\"Zip*\" type=\"text\" value=\"\"/>\n",
      "          </div>\n",
      "         </div>\n",
      "         <div class=\"dform_element dform_html field_untitled\" id=\"forms_field_17\" style=\"\">\n",
      "          <label class=\"dform_label\" for=\"ddform_17\">\n",
      "           Untitled\n",
      "          </label>\n",
      "          <div class=\"dform_container\">\n",
      "           <div class=\"disclaimer\">\n",
      "            <p>\n",
      "             By providing your phone number, you are consenting to receive\n",
      "calls and SMS/MMS msgs, including autodialed and automated\n",
      "calls and texts, to that number from Save America JFC.\n",
      "Msg&amp;data rates may apply. Terms &amp; conditions/privacy policy\n",
      "apply\n",
      "             <a href=\"https://txtterms.co/88022/\" target=\"_blank\">\n",
      "              txtterms.co/88022.\n",
      "             </a>\n",
      "            </p>\n",
      "           </div>\n",
      "          </div>\n",
      "         </div>\n",
      "         <div class=\"dform_element submit_button\">\n",
      "          <div class=\"dform_container\">\n",
      "           <div class=\"dfinput_full\">\n",
      "            <input class=\"submit\" data-value=\"Save\" data-wait=\"Verifying...\" name=\"submit_button\" type=\"submit\" value=\"Save\"/>\n",
      "           </div>\n",
      "          </div>\n",
      "         </div>\n",
      "        </div>\n",
      "       </form>\n",
      "      </div>\n",
      "     </div>\n",
      "    </section>\n",
      "    <section class=\"callout centered vp-80 m-content-15\">\n",
      "     <div class=\"container\">\n",
      "      <h2 class=\"title-med-1\">\n",
      "       Get Involved\n",
      "      </h2>\n",
      "      <p class=\"m-0a\">\n",
      "       On November 8, 2016, the American People delivered a historic victory and took our country back. This victory was the result of a Movement to put America first, to save the American economy, and to make America once again a shining city on the hill. But our Movement cannot stop now - we still have much work to do.\n",
      "      </p>\n",
      "      <a class=\"btn\" href=\"https://secure.winred.com/save-america-joint-fundraising-committee/membership?location=djt_sa_callout\" target=\"_blank\">\n",
      "       Contribute\n",
      "      </a>\n",
      "     </div>\n",
      "     <span class=\"image full-bg\" style=\"background-image: url(https://cdn.donaldjtrump.com/djtweb/general/callout_about.jpeg);\">\n",
      "     </span>\n",
      "    </section>\n",
      "   </main>\n",
      "  </div>\n",
      "  <div id=\"footer-wrapper\">\n",
      "   <footer class=\"light-txt\" id=\"footer\" role=\"contentinfo\">\n",
      "    <div class=\"container\">\n",
      "     <div class=\"footer-top flex\">\n",
      "      <div class=\"footer-signup flex flex-1\">\n",
      "       <div>\n",
      "        <p class=\"title\">\n",
      "         Join Our Movement\n",
      "        </p>\n",
      "        <div class=\"signup-form\">\n",
      "         <form action=\" \" class=\"newsletter_signup\" enctype=\"multipart/form-data\" id=\"new_submission\" method=\"post\">\n",
      "          <div class=\"hiddenFields\">\n",
      "           <input name=\"ACT\" type=\"hidden\" value=\"31\"/>\n",
      "           <input name=\"FDATA\" type=\"hidden\" value=\"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\"/>\n",
      "           <input name=\"site_id\" type=\"hidden\" value=\"1\"/>\n",
      "           <input name=\"csrf_token\" type=\"hidden\" value=\"d4616487e7f4f50078f543df6534442095264a03\"/>\n",
      "          </div>\n",
      "          <div class=\"dform\">\n",
      "           <div class=\"dform_element dform_email dftop_label field_email dform_required\" id=\"forms_field_1\" style=\"\">\n",
      "            <label class=\"dform_label\" for=\"ddform_1\">\n",
      "             Email\n",
      "             <span class=\"req\">\n",
      "              *\n",
      "             </span>\n",
      "            </label>\n",
      "            <div class=\"dform_container\">\n",
      "             <input class=\"text required validate[required,custom[email]]\" data-placeholder=\"Enter your email*\" id=\"ddform_1\" name=\"fields[1]\" placeholder=\"Enter your email*\" type=\"email\" value=\"\"/>\n",
      "            </div>\n",
      "           </div>\n",
      "           <div class=\"dform_element dform_text_input dftop_label field_phone\" id=\"forms_field_16\" style=\"\">\n",
      "            <label class=\"dform_label\" for=\"ddform_16\">\n",
      "             Phone\n",
      "            </label>\n",
      "            <div class=\"dform_container\">\n",
      "             <input class=\"text\" data-placeholder=\"Phone\" id=\"ddform_16\" name=\"fields[16]\" placeholder=\"Phone\" type=\"text\" value=\"\"/>\n",
      "            </div>\n",
      "           </div>\n",
      "           <div class=\"dform_element dform_text_input dftop_label field_zip dform_required\" id=\"forms_field_2\" style=\"\">\n",
      "            <label class=\"dform_label\" for=\"ddform_2\">\n",
      "             Zip\n",
      "             <span class=\"req\">\n",
      "              *\n",
      "             </span>\n",
      "            </label>\n",
      "            <div class=\"dform_container\">\n",
      "             <input class=\"text required validate[required]\" data-placeholder=\"Zip*\" id=\"ddform_2\" name=\"fields[2]\" placeholder=\"Zip*\" type=\"text\" value=\"\"/>\n",
      "            </div>\n",
      "           </div>\n",
      "           <div class=\"dform_element dform_html field_untitled\" id=\"forms_field_17\" style=\"\">\n",
      "            <label class=\"dform_label\" for=\"ddform_17\">\n",
      "             Untitled\n",
      "            </label>\n",
      "            <div class=\"dform_container\">\n",
      "             <div class=\"disclaimer\">\n",
      "              <p>\n",
      "               By providing your phone number, you are consenting to receive\n",
      "calls and SMS/MMS msgs, including autodialed and automated\n",
      "calls and texts, to that number from Save America JFC.\n",
      "Msg&amp;data rates may apply. Terms &amp; conditions/privacy policy\n",
      "apply\n",
      "               <a href=\"https://txtterms.co/88022/\" target=\"_blank\">\n",
      "                txtterms.co/88022.\n",
      "               </a>\n",
      "              </p>\n",
      "             </div>\n",
      "            </div>\n",
      "           </div>\n",
      "           <div class=\"dform_element submit_button\">\n",
      "            <div class=\"dform_container\">\n",
      "             <div class=\"dfinput_full\">\n",
      "              <input class=\"submit\" data-value=\"Save\" data-wait=\"Verifying...\" name=\"submit_button\" type=\"submit\" value=\"Save\"/>\n",
      "             </div>\n",
      "            </div>\n",
      "           </div>\n",
      "          </div>\n",
      "         </form>\n",
      "        </div>\n",
      "       </div>\n",
      "      </div>\n",
      "      <div class=\"footer-social\">\n",
      "       <p class=\"title\">\n",
      "        Follow Us\n",
      "       </p>\n",
      "       <ul class=\"list-social\">\n",
      "        <li class=\"footer-social-link\">\n",
      "         <a class=\"icon facebook\" href=\"https://www.facebook.com/officialteamtrump\" target=\"_blank\">\n",
      "          Facebook\n",
      "         </a>\n",
      "        </li>\n",
      "        <li class=\"footer-social-link\">\n",
      "         <a class=\"icon instagram\" href=\"https://www.instagram.com/teamtrump\" target=\"_blank\">\n",
      "          Instagram\n",
      "         </a>\n",
      "        </li>\n",
      "       </ul>\n",
      "      </div>\n",
      "     </div>\n",
      "     <div class=\"footer-bottom flex flex-align-center\">\n",
      "      <p class=\"footer-legal flex flex-1\">\n",
      "       Paid for by Save America JFC, a joint fundraising committee of Save America and Make America Great Again PAC. Not authorized by any candidate or candidate’s committee. donaldjtrump.com\n",
      "      </p>\n",
      "      <ul class=\"footer-links flex\">\n",
      "       <li>\n",
      "        <a href=\"/privacy-policy/\">\n",
      "         Privacy Policy\n",
      "        </a>\n",
      "       </li>\n",
      "       <li>\n",
      "        <a href=\"/terms-of-service/\">\n",
      "         Terms &amp; Conditions\n",
      "        </a>\n",
      "       </li>\n",
      "       <li>\n",
      "        <a href=\"https://www.campaignnucleus.com/?location=djt_sa_footer\" rel=\"nofollow\" target=\"_blank\">\n",
      "         Powered by Nucleus\n",
      "        </a>\n",
      "       </li>\n",
      "      </ul>\n",
      "     </div>\n",
      "    </div>\n",
      "    <script>\n",
      "     !function(f,b,e,v,n,t,s){if(f.fbq)return;n=f.fbq=function(){n.callMethod?\n",
      "n.callMethod.apply(n,arguments):n.queue.push(arguments)};if(!f._fbq)f._fbq=n;\n",
      "n.push=n;n.loaded=!0;n.version='2.0';n.queue=[];t=b.createElement(e);t.async=!0;\n",
      "t.src=v;s=b.getElementsByTagName(e)[0];s.parentNode.insertBefore(t,s)}(window,\n",
      "document,'script','//connect.facebook.net/en_US/fbevents.js');\n",
      "\n",
      "fbq('init', '2558854747672869');\n",
      "fbq('track', \"PageView\");\n",
      "    </script>\n",
      "    <noscript>\n",
      "     <img height=\"1\" src=\"https://www.facebook.com/tr?id=2558854747672869&amp;ev=PageView&amp;noscript=1\" style=\"display:none\" width=\"1\"/>\n",
      "    </noscript>\n",
      "   </footer>\n",
      "  </div>\n",
      "  <div aria-describedby=\"popup-description\" aria-hidden=\"true\" aria-labelledby=\"popup-title\" class=\"popup\" id=\"home-popup\" role=\"dialog\">\n",
      "   <div class=\"content-wrapper\">\n",
      "    <div class=\"content\">\n",
      "     <button aria-label=\"Close Popup\" class=\"close-popup icon\" type=\"button\">\n",
      "     </button>\n",
      "     <a class=\"image\" href=\"https://secure.winred.com/save-america-joint-fundraising-committee/sept-eoq-800-hp?recurring=true&amp;money_pledge=true&amp;amount=100&amp;utm_medium=homepage&amp;utm_source=na_na_na&amp;utm_campaign=sept22-eoq-homepage_na_saveamerica&amp;utm_content=donate_cpyrs_na\" target=\"_blank\">\n",
      "      <img alt=\"\" src=\"https://cdn.donaldjtrump.com/djtweb/general/20220228_Save-America_Pop-Ups_v4_2.png\"/>\n",
      "     </a>\n",
      "    </div>\n",
      "   </div>\n",
      "  </div>\n",
      "  <script src=\"/assets/js/vendor.js?v=1GtK6Mbnnc9cijdqHQznzfRJ067X0LMo\">\n",
      "  </script>\n",
      "  <script src=\"https://cdnjs.cloudflare.com/ajax/libs/jscroll/2.4.1/jquery.jscroll.min.js\">\n",
      "  </script>\n",
      "  <script src=\"/assets/js/app.js?v=1GtK6Mbnnc9cijdqHQznzfRJ067X0LMo\">\n",
      "  </script>\n",
      "  <script>\n",
      "   $(document).ready(function(){\n",
      "         $('#mobile-menu-trigger').click(function(e){\n",
      "            if ($(window).width() > 768) {\n",
      "            } else {\n",
      "               const targetElement = document.querySelector(\"#header-nav\");\n",
      "               if ($(this).attr('aria-expanded') == 'false'){bodyScrollLock.enableBodyScroll(targetElement);} else {bodyScrollLock.disableBodyScroll(targetElement);}\n",
      "            }\n",
      "         });\n",
      "      });\n",
      "  </script>\n",
      " </body>\n",
      "</html>\n"
     ]
    }
   ],
   "source": [
    "print(soup.prettify())"
   ]
  },
  {
   "cell_type": "markdown",
   "metadata": {},
   "source": [
    "One of the cool things we can do is search the soup to find things like `a` tags. Go look up what those tags are used for. "
   ]
  },
  {
   "cell_type": "code",
   "execution_count": 9,
   "metadata": {},
   "outputs": [],
   "source": [
    "all_a_tags = soup.find_all('a')"
   ]
  },
  {
   "cell_type": "code",
   "execution_count": 10,
   "metadata": {},
   "outputs": [],
   "source": [
    "?soup.find_all"
   ]
  },
  {
   "cell_type": "code",
   "execution_count": 11,
   "metadata": {},
   "outputs": [
    {
     "data": {
      "text/plain": [
       "[<a href=\"#main\" id=\"skipnav\">Skip to main content</a>,\n",
       " <a class=\"logo icon\" href=\"/\" id=\"header-logo\">Back to Home Page</a>,\n",
       " <a class=\"level-1-link btn btn-text-white btn-border-white\" href=\"https://secure.winred.com/save-america-joint-fundraising-committee/storefront?location=djt_sa_header\" target=\"_blank\">Shop</a>,\n",
       " <a class=\"level-1-link btn btn-filled\" href=\"https://secure.winred.com/save-america-joint-fundraising-committee/early-renewal-founding-membership/?recurring=true&amp;money_pledge=true&amp;amount=100&amp;utm_medium=homepage&amp;utm_source=na_na_na&amp;utm_campaign=homepage-button_na_saveamerica&amp;utm_content=donate_cpyrs_na\" target=\"_blank\">Contribute</a>,\n",
       " <a class=\"level-1-link\" href=\"/about\">About</a>,\n",
       " <a class=\"level-1-link\" href=\"/events\">Events</a>,\n",
       " <a class=\"level-1-link\" href=\"/news\">News</a>,\n",
       " <a class=\"level-1-link\" href=\"/alerts\">Alerts</a>,\n",
       " <a class=\"level-1-link\" href=\"https://www.45office.com/?location=djt_sa_header\" target=\"_blank\">Contact</a>,\n",
       " <a class=\"level-1-link btn btn-text-white btn-border-white\" href=\"https://secure.winred.com/save-america-joint-fundraising-committee/storefront?location=djt_sa_header\" target=\"_blank\">Shop</a>,\n",
       " <a class=\"level-1-link btn btn-filled\" href=\"https://secure.winred.com/save-america-joint-fundraising-committee/early-renewal-founding-membership/?recurring=true&amp;money_pledge=true&amp;amount=100&amp;utm_medium=homepage&amp;utm_source=na_na_na&amp;utm_campaign=homepage-button_na_saveamerica&amp;utm_content=donate_cpyrs_na\" target=\"_blank\">Contribute</a>,\n",
       " <a class=\"btn arrow-btn btn-text-white btn-border-white btn-large\" href=\"https://secure.winred.com/save-america-joint-fundraising-committee/early-renewal-founding-membership/?recurring=true&amp;money_pledge=true&amp;amount=100&amp;utm_medium=homepage&amp;utm_source=na_na_na&amp;utm_campaign=homepage-button_na_saveamerica&amp;utm_content=donate_cpyrs_na\" target=\"_blank\">Contribute<span class=\"arrow\"></span></a>,\n",
       " <a href=\"https://txtterms.co/88022/\" target=\"_blank\">txtterms.co/88022.</a>,\n",
       " <a class=\"btn\" href=\"https://secure.winred.com/save-america-joint-fundraising-committee/membership?location=djt_sa_callout\" target=\"_blank\">Contribute</a>,\n",
       " <a href=\"https://txtterms.co/88022/\" target=\"_blank\">txtterms.co/88022.</a>,\n",
       " <a class=\"icon facebook\" href=\"https://www.facebook.com/officialteamtrump\" target=\"_blank\">Facebook</a>,\n",
       " <a class=\"icon instagram\" href=\"https://www.instagram.com/teamtrump\" target=\"_blank\">Instagram</a>,\n",
       " <a href=\"/privacy-policy/\">Privacy Policy</a>,\n",
       " <a href=\"/terms-of-service/\">Terms &amp; Conditions</a>,\n",
       " <a href=\"https://www.campaignnucleus.com/?location=djt_sa_footer\" rel=\"nofollow\" target=\"_blank\">Powered by Nucleus</a>,\n",
       " <a class=\"image\" href=\"https://secure.winred.com/save-america-joint-fundraising-committee/sept-eoq-800-hp?recurring=true&amp;money_pledge=true&amp;amount=100&amp;utm_medium=homepage&amp;utm_source=na_na_na&amp;utm_campaign=sept22-eoq-homepage_na_saveamerica&amp;utm_content=donate_cpyrs_na\" target=\"_blank\">\n",
       " <img alt=\"\" src=\"https://cdn.donaldjtrump.com/djtweb/general/20220228_Save-America_Pop-Ups_v4_2.png\"/>\n",
       " </a>]"
      ]
     },
     "execution_count": 11,
     "metadata": {},
     "output_type": "execute_result"
    }
   ],
   "source": [
    "all_a_tags"
   ]
  },
  {
   "cell_type": "code",
   "execution_count": 12,
   "metadata": {},
   "outputs": [
    {
     "data": {
      "text/plain": [
       "21"
      ]
     },
     "execution_count": 12,
     "metadata": {},
     "output_type": "execute_result"
    }
   ],
   "source": [
    "len(all_a_tags)"
   ]
  },
  {
   "cell_type": "markdown",
   "metadata": {},
   "source": [
    "That's the number of links on this page. Let's make a list of all of those."
   ]
  },
  {
   "cell_type": "code",
   "execution_count": 28,
   "metadata": {},
   "outputs": [],
   "source": [
    "candidate_links = []\n",
    "\n",
    "for link in soup.find_all('a'):\n",
    "    candidate_links.append(link.get('href'))\n"
   ]
  },
  {
   "cell_type": "code",
   "execution_count": 29,
   "metadata": {},
   "outputs": [
    {
     "data": {
      "text/plain": [
       "['https://rsci.app.link/?%24canonical_url=https%3A%2F%2Fmedium.com%2F%40joebiden&~feature=LoOpenInAppButton&~channel=ShowUser&~stage=mobileNavBar&source=user_profile-------------------------------------',\n",
       " 'https://medium.com/?source=user_profile-------------------------------------',\n",
       " '/@JoeBiden?source=user_profile-------------------------------------',\n",
       " '/m/signin?operation=login&redirect=https%3A%2F%2Fmedium.com%2F%40joebiden&source=user_profile--------------------------nav_reg-----------',\n",
       " 'https://medium.com/?source=user_profile-------------------------------------',\n",
       " '/m/signin?actionUrl=%2F_%2Fapi%2Fsubscriptions%2Fnewsletters%2F4667f1531d8c&operation=register&redirect=https%3A%2F%2Fmedium.com%2F%40joebiden&newsletterV3=83aa09df6397&newsletterV3Id=4667f1531d8c&user=Joe%20Biden&userId=83aa09df6397&source=user_profile--------------------------subscribe_user-----------',\n",
       " '/@JoeBiden/followers?source=user_profile-------------------------------------',\n",
       " '/@JoeBiden/about?source=user_profile-------------------------------------',\n",
       " 'https://rsci.app.link/?%24canonical_url=https%3A%2F%2Fmedium.com%2F%40joebiden&~feature=LoOpenInAppButton&~channel=ShowUser&~stage=mobileNavBar&source=user_profile-------------------------------------',\n",
       " 'https://medium.com/?source=user_profile-------------------------------------']"
      ]
     },
     "execution_count": 29,
     "metadata": {},
     "output_type": "execute_result"
    }
   ],
   "source": [
    "candidate_links[:10]"
   ]
  },
  {
   "cell_type": "markdown",
   "metadata": {},
   "source": [
    "One thing we might want to do now is crawl each one of those pages to extract the text. Let's store the text in a dictionary that has the url as the key and the value is the text. One trick we'll use is to just extract visible text from the page, using the code found at this StackOverflow [answer](https://stackoverflow.com/questions/1936466/beautifulsoup-grab-visible-webpage-text)."
   ]
  },
  {
   "cell_type": "code",
   "execution_count": 11,
   "metadata": {},
   "outputs": [],
   "source": [
    "from bs4.element import Comment\n",
    "\n",
    "def tag_visible(element):\n",
    "    if element.parent.name in ['style', 'script', 'head', 'title', 'meta', '[document]']:\n",
    "        return False\n",
    "    if isinstance(element, Comment):\n",
    "        return False\n",
    "    return True\n"
   ]
  },
  {
   "cell_type": "code",
   "execution_count": 40,
   "metadata": {},
   "outputs": [],
   "source": [
    "x = list(range(20))"
   ]
  },
  {
   "cell_type": "code",
   "execution_count": 42,
   "metadata": {},
   "outputs": [],
   "source": [
    "def is_even(num) :\n",
    "    if num % 2 == 0 :\n",
    "        return True\n",
    "    else :\n",
    "        return False"
   ]
  },
  {
   "cell_type": "code",
   "execution_count": 48,
   "metadata": {},
   "outputs": [
    {
     "data": {
      "text/plain": [
       "<filter at 0x7fc0b84aa820>"
      ]
     },
     "execution_count": 48,
     "metadata": {},
     "output_type": "execute_result"
    }
   ],
   "source": [
    "(filter(is_even,x))"
   ]
  },
  {
   "cell_type": "code",
   "execution_count": 51,
   "metadata": {},
   "outputs": [
    {
     "name": "stdout",
     "output_type": "stream",
     "text": [
      "We got code 403 for this link: https://help.medium.com/hc/en-us?source=user_profile-------------------------------------\n"
     ]
    }
   ],
   "source": [
    "candidate_text = dict()\n",
    "\n",
    "for link in candidate_links :\n",
    "    try :\n",
    "        r = requests.get(link)\n",
    "    except :\n",
    "        next \n",
    "    \n",
    "    if r.status_code == 200 :\n",
    "        soup = BeautifulSoup(r.text, 'html.parser')\n",
    "        texts = soup.findAll(text=True)\n",
    "        visible_texts = filter(tag_visible, texts) \n",
    "        candidate_text[link] = \" \".join(t.strip() for t in visible_texts)\n",
    "    else :\n",
    "        print(f\"We got code {r.status_code} for this link: {link}\")"
   ]
  },
  {
   "cell_type": "code",
   "execution_count": 52,
   "metadata": {},
   "outputs": [
    {
     "data": {
      "text/plain": [
       "['https://rsci.app.link/?%24canonical_url=https%3A%2F%2Fmedium.com%2F%40joebiden&~feature=LoOpenInAppButton&~channel=ShowUser&~stage=mobileNavBar&source=user_profile-------------------------------------',\n",
       " 'https://medium.com/?source=user_profile-------------------------------------',\n",
       " '/@JoeBiden?source=user_profile-------------------------------------',\n",
       " '/m/signin?operation=login&redirect=https%3A%2F%2Fmedium.com%2F%40joebiden&source=user_profile--------------------------nav_reg-----------',\n",
       " '/m/signin?actionUrl=%2F_%2Fapi%2Fsubscriptions%2Fnewsletters%2F4667f1531d8c&operation=register&redirect=https%3A%2F%2Fmedium.com%2F%40joebiden&newsletterV3=83aa09df6397&newsletterV3Id=4667f1531d8c&user=Joe%20Biden&userId=83aa09df6397&source=user_profile--------------------------subscribe_user-----------',\n",
       " '/@JoeBiden/followers?source=user_profile-------------------------------------',\n",
       " '/@JoeBiden/about?source=user_profile-------------------------------------',\n",
       " '/@JoeBiden/south-carolina-a-year-later-3e88745983cc?source=user_profile---------0----------------------------',\n",
       " 'https://medium.com/@JoeBiden/south-carolina-a-year-later-3e88745983cc?source=user_profile---------0----------------------------',\n",
       " 'https://www.cnn.com/asia/live-news/coronavirus-outbreak-02-28-20-intl-hnk/index.html',\n",
       " '/@JoeBiden/south-carolina-a-year-later-3e88745983cc?readmore=1&source=user_profile---------0----------------------------',\n",
       " '/m/signin?actionUrl=https%3A%2F%2Fmedium.com%2F_%2Fvote%2Fp%2F3e88745983cc&operation=register&redirect=https%3A%2F%2Fmedium.com%2F%40joebiden&user=Joe%20Biden&userId=83aa09df6397&source=user_profile-----3e88745983cc----0-----------------clap_preview-----------',\n",
       " '/@JoeBiden/south-carolina-a-year-later-3e88745983cc?responsesOpen=true&source=user_profile---------0----------------------------',\n",
       " '/m/signin?actionUrl=https%3A%2F%2Fmedium.com%2F_%2Fbookmark%2Fp%2F3e88745983cc&operation=register&redirect=https%3A%2F%2Fmedium.com%2F%40joebiden&source=user_profile---------0-----------------bookmark_preview-----------',\n",
       " '/@JoeBiden/my-statement-on-the-odnis-decision-to-end-election-interference-briefings-4b98e4eca239?source=user_profile---------1----------------------------',\n",
       " 'https://medium.com/@JoeBiden/my-statement-on-the-odnis-decision-to-end-election-interference-briefings-4b98e4eca239?source=user_profile---------1----------------------------',\n",
       " '/@JoeBiden/my-statement-on-the-odnis-decision-to-end-election-interference-briefings-4b98e4eca239?readmore=1&source=user_profile---------1----------------------------',\n",
       " '/m/signin?actionUrl=https%3A%2F%2Fmedium.com%2F_%2Fvote%2Fp%2F4b98e4eca239&operation=register&redirect=https%3A%2F%2Fmedium.com%2F%40joebiden&user=Joe%20Biden&userId=83aa09df6397&source=user_profile-----4b98e4eca239----1-----------------clap_preview-----------',\n",
       " '/@JoeBiden/my-statement-on-the-odnis-decision-to-end-election-interference-briefings-4b98e4eca239?responsesOpen=true&source=user_profile---------1----------------------------',\n",
       " '/m/signin?actionUrl=https%3A%2F%2Fmedium.com%2F_%2Fbookmark%2Fp%2F4b98e4eca239&operation=register&redirect=https%3A%2F%2Fmedium.com%2F%40joebiden&source=user_profile---------1-----------------bookmark_preview-----------',\n",
       " '/@JoeBiden/my-statement-on-the-85th-anniversary-of-social-security-911f29fd2cc6?source=user_profile---------2----------------------------',\n",
       " 'https://medium.com/@JoeBiden/my-statement-on-the-85th-anniversary-of-social-security-911f29fd2cc6?source=user_profile---------2----------------------------',\n",
       " '/@JoeBiden/my-statement-on-the-85th-anniversary-of-social-security-911f29fd2cc6?readmore=1&source=user_profile---------2----------------------------',\n",
       " '/m/signin?actionUrl=https%3A%2F%2Fmedium.com%2F_%2Fvote%2Fp%2F911f29fd2cc6&operation=register&redirect=https%3A%2F%2Fmedium.com%2F%40joebiden&user=Joe%20Biden&userId=83aa09df6397&source=user_profile-----911f29fd2cc6----2-----------------clap_preview-----------',\n",
       " '/@JoeBiden/my-statement-on-the-85th-anniversary-of-social-security-911f29fd2cc6?responsesOpen=true&source=user_profile---------2----------------------------',\n",
       " '/m/signin?actionUrl=https%3A%2F%2Fmedium.com%2F_%2Fbookmark%2Fp%2F911f29fd2cc6&operation=register&redirect=https%3A%2F%2Fmedium.com%2F%40joebiden&source=user_profile---------2-----------------bookmark_preview-----------',\n",
       " '/@JoeBiden/my-statement-on-black-womens-equal-pay-day-2f2cb3c33bf6?source=user_profile---------3----------------------------',\n",
       " 'https://medium.com/@JoeBiden/my-statement-on-black-womens-equal-pay-day-2f2cb3c33bf6?source=user_profile---------3----------------------------',\n",
       " '/@JoeBiden/my-statement-on-black-womens-equal-pay-day-2f2cb3c33bf6?readmore=1&source=user_profile---------3----------------------------',\n",
       " '/m/signin?actionUrl=https%3A%2F%2Fmedium.com%2F_%2Fvote%2Fp%2F2f2cb3c33bf6&operation=register&redirect=https%3A%2F%2Fmedium.com%2F%40joebiden&user=Joe%20Biden&userId=83aa09df6397&source=user_profile-----2f2cb3c33bf6----3-----------------clap_preview-----------',\n",
       " '/@JoeBiden/my-statement-on-black-womens-equal-pay-day-2f2cb3c33bf6?responsesOpen=true&source=user_profile---------3----------------------------',\n",
       " '/m/signin?actionUrl=https%3A%2F%2Fmedium.com%2F_%2Fbookmark%2Fp%2F2f2cb3c33bf6&operation=register&redirect=https%3A%2F%2Fmedium.com%2F%40joebiden&source=user_profile---------3-----------------bookmark_preview-----------',\n",
       " '/@JoeBiden/my-statement-on-the-agreement-between-israel-and-the-united-arab-emirates-3da70088e519?source=user_profile---------4----------------------------',\n",
       " 'https://medium.com/@JoeBiden/my-statement-on-the-agreement-between-israel-and-the-united-arab-emirates-3da70088e519?source=user_profile---------4----------------------------',\n",
       " '/@JoeBiden/my-statement-on-the-agreement-between-israel-and-the-united-arab-emirates-3da70088e519?readmore=1&source=user_profile---------4----------------------------',\n",
       " '/m/signin?actionUrl=https%3A%2F%2Fmedium.com%2F_%2Fvote%2Fp%2F3da70088e519&operation=register&redirect=https%3A%2F%2Fmedium.com%2F%40joebiden&user=Joe%20Biden&userId=83aa09df6397&source=user_profile-----3da70088e519----4-----------------clap_preview-----------',\n",
       " '/@JoeBiden/my-statement-on-the-agreement-between-israel-and-the-united-arab-emirates-3da70088e519?responsesOpen=true&source=user_profile---------4----------------------------',\n",
       " '/m/signin?actionUrl=https%3A%2F%2Fmedium.com%2F_%2Fbookmark%2Fp%2F3da70088e519&operation=register&redirect=https%3A%2F%2Fmedium.com%2F%40joebiden&source=user_profile---------4-----------------bookmark_preview-----------',\n",
       " '/@JoeBiden/my-statement-on-the-third-anniversary-of-the-right-wing-protests-in-charlottesville-d5329a2d22ed?source=user_profile---------5----------------------------',\n",
       " 'https://medium.com/@JoeBiden/my-statement-on-the-third-anniversary-of-the-right-wing-protests-in-charlottesville-d5329a2d22ed?source=user_profile---------5----------------------------',\n",
       " '/@JoeBiden/my-statement-on-the-third-anniversary-of-the-right-wing-protests-in-charlottesville-d5329a2d22ed?readmore=1&source=user_profile---------5----------------------------',\n",
       " '/m/signin?actionUrl=https%3A%2F%2Fmedium.com%2F_%2Fvote%2Fp%2Fd5329a2d22ed&operation=register&redirect=https%3A%2F%2Fmedium.com%2F%40joebiden&user=Joe%20Biden&userId=83aa09df6397&source=user_profile-----d5329a2d22ed----5-----------------clap_preview-----------',\n",
       " '/@JoeBiden/my-statement-on-the-third-anniversary-of-the-right-wing-protests-in-charlottesville-d5329a2d22ed?responsesOpen=true&source=user_profile---------5----------------------------',\n",
       " '/m/signin?actionUrl=https%3A%2F%2Fmedium.com%2F_%2Fbookmark%2Fp%2Fd5329a2d22ed&operation=register&redirect=https%3A%2F%2Fmedium.com%2F%40joebiden&source=user_profile---------5-----------------bookmark_preview-----------',\n",
       " '/@JoeBiden/my-statement-on-elections-in-belarus-ef441389fac6?source=user_profile---------6----------------------------',\n",
       " 'https://medium.com/@JoeBiden/my-statement-on-elections-in-belarus-ef441389fac6?source=user_profile---------6----------------------------',\n",
       " '/@JoeBiden/my-statement-on-elections-in-belarus-ef441389fac6?readmore=1&source=user_profile---------6----------------------------',\n",
       " '/m/signin?actionUrl=https%3A%2F%2Fmedium.com%2F_%2Fvote%2Fp%2Fef441389fac6&operation=register&redirect=https%3A%2F%2Fmedium.com%2F%40joebiden&user=Joe%20Biden&userId=83aa09df6397&source=user_profile-----ef441389fac6----6-----------------clap_preview-----------',\n",
       " '/@JoeBiden/my-statement-on-elections-in-belarus-ef441389fac6?responsesOpen=true&source=user_profile---------6----------------------------',\n",
       " '/m/signin?actionUrl=https%3A%2F%2Fmedium.com%2F_%2Fbookmark%2Fp%2Fef441389fac6&operation=register&redirect=https%3A%2F%2Fmedium.com%2F%40joebiden&source=user_profile---------6-----------------bookmark_preview-----------',\n",
       " '/@JoeBiden/my-statement-on-five-million-covid-19-infections-82c282c935b1?source=user_profile---------7----------------------------',\n",
       " 'https://medium.com/@JoeBiden/my-statement-on-five-million-covid-19-infections-82c282c935b1?source=user_profile---------7----------------------------',\n",
       " '/@JoeBiden/my-statement-on-five-million-covid-19-infections-82c282c935b1?readmore=1&source=user_profile---------7----------------------------',\n",
       " '/m/signin?actionUrl=https%3A%2F%2Fmedium.com%2F_%2Fvote%2Fp%2F82c282c935b1&operation=register&redirect=https%3A%2F%2Fmedium.com%2F%40joebiden&user=Joe%20Biden&userId=83aa09df6397&source=user_profile-----82c282c935b1----7-----------------clap_preview-----------',\n",
       " '/@JoeBiden/my-statement-on-five-million-covid-19-infections-82c282c935b1?responsesOpen=true&source=user_profile---------7----------------------------',\n",
       " '/m/signin?actionUrl=https%3A%2F%2Fmedium.com%2F_%2Fbookmark%2Fp%2F82c282c935b1&operation=register&redirect=https%3A%2F%2Fmedium.com%2F%40joebiden&source=user_profile---------7-----------------bookmark_preview-----------',\n",
       " '/@JoeBiden/statement-by-vice-president-joe-biden-on-president-trumps-executive-orders-to-sow-more-chaos-and-876805b13d08?source=user_profile---------8----------------------------',\n",
       " 'https://medium.com/@JoeBiden/statement-by-vice-president-joe-biden-on-president-trumps-executive-orders-to-sow-more-chaos-and-876805b13d08?source=user_profile---------8----------------------------',\n",
       " '/@JoeBiden/statement-by-vice-president-joe-biden-on-president-trumps-executive-orders-to-sow-more-chaos-and-876805b13d08?readmore=1&source=user_profile---------8----------------------------',\n",
       " '/m/signin?actionUrl=https%3A%2F%2Fmedium.com%2F_%2Fvote%2Fp%2F876805b13d08&operation=register&redirect=https%3A%2F%2Fmedium.com%2F%40joebiden&user=Joe%20Biden&userId=83aa09df6397&source=user_profile-----876805b13d08----8-----------------clap_preview-----------',\n",
       " '/@JoeBiden/statement-by-vice-president-joe-biden-on-president-trumps-executive-orders-to-sow-more-chaos-and-876805b13d08?responsesOpen=true&source=user_profile---------8----------------------------',\n",
       " '/m/signin?actionUrl=https%3A%2F%2Fmedium.com%2F_%2Fbookmark%2Fp%2F876805b13d08&operation=register&redirect=https%3A%2F%2Fmedium.com%2F%40joebiden&source=user_profile---------8-----------------bookmark_preview-----------',\n",
       " '/@JoeBiden/statement-by-vice-president-joe-biden-on-bristol-bay-1a83d60a2986?source=user_profile---------9----------------------------',\n",
       " 'https://medium.com/@JoeBiden/statement-by-vice-president-joe-biden-on-bristol-bay-1a83d60a2986?source=user_profile---------9----------------------------',\n",
       " '/@JoeBiden/statement-by-vice-president-joe-biden-on-bristol-bay-1a83d60a2986?readmore=1&source=user_profile---------9----------------------------',\n",
       " '/m/signin?actionUrl=https%3A%2F%2Fmedium.com%2F_%2Fvote%2Fp%2F1a83d60a2986&operation=register&redirect=https%3A%2F%2Fmedium.com%2F%40joebiden&user=Joe%20Biden&userId=83aa09df6397&source=user_profile-----1a83d60a2986----9-----------------clap_preview-----------',\n",
       " '/@JoeBiden/statement-by-vice-president-joe-biden-on-bristol-bay-1a83d60a2986?responsesOpen=true&source=user_profile---------9----------------------------',\n",
       " '/m/signin?actionUrl=https%3A%2F%2Fmedium.com%2F_%2Fbookmark%2Fp%2F1a83d60a2986&operation=register&redirect=https%3A%2F%2Fmedium.com%2F%40joebiden&source=user_profile---------9-----------------bookmark_preview-----------',\n",
       " 'http://JoeBiden.com',\n",
       " 'https://medium.com/about?autoplay=1&source=user_profile-------------------------------------',\n",
       " 'https://medium.com/new-story?source=user_profile-------------------------------------',\n",
       " 'https://policy.medium.com/medium-terms-of-service-9db0094a1e0f?source=user_profile-------------------------------------',\n",
       " 'https://itunes.apple.com/app/medium-everyones-stories/id828256236?pt=698524&mt=8&ct=user_profile&source=user_profile-------------------------------------',\n",
       " 'https://play.google.com/store/apps/details?id=com.medium.reader&source=user_profile-------------------------------------']"
      ]
     },
     "execution_count": 52,
     "metadata": {},
     "output_type": "execute_result"
    }
   ],
   "source": [
    "list(candidate_text.keys())"
   ]
  },
  {
   "cell_type": "code",
   "execution_count": 57,
   "metadata": {},
   "outputs": [
    {
     "data": {
      "text/plain": [
       "[('the', 86),\n",
       " ('to', 72),\n",
       " ('and', 68),\n",
       " ('of', 47),\n",
       " ('a', 45),\n",
       " ('—', 34),\n",
       " ('this', 30),\n",
       " ('we', 28),\n",
       " ('i', 27),\n",
       " ('in', 23)]"
      ]
     },
     "execution_count": 57,
     "metadata": {},
     "output_type": "execute_result"
    }
   ],
   "source": [
    "nltk.probability.FreqDist([w.lower() for w in candidate_text['http://JoeBiden.com'].split()]).most_common(10)"
   ]
  },
  {
   "cell_type": "code",
   "execution_count": 55,
   "metadata": {},
   "outputs": [],
   "source": [
    "import nltk"
   ]
  },
  {
   "cell_type": "markdown",
   "metadata": {},
   "source": [
    "Let's write out the results. Storing text data can be tricky, because often that text will have characters in it, like tabs and carriage returns, that we typically use to split up our files. We'll replace those with spaces in the file we're about to write out, so we can use tab delimiters. It's also nice to have a way to turn a URL into a nice file name. Here's a \n",
    "[function](https://stackoverflow.com/questions/9055249/simple-way-to-convert-a-url-into-a-filename)\n",
    "that does it. "
   ]
  },
  {
   "cell_type": "code",
   "execution_count": 13,
   "metadata": {},
   "outputs": [],
   "source": [
    "def generate_filename_from_url(url) :\n",
    "    \n",
    "    if not url :\n",
    "        return None\n",
    "    \n",
    "    # drop the http or https\n",
    "    name = url.replace(\"https\",\"\").replace(\"http\",\"\")\n",
    "\n",
    "    # Replace useless chareacters with UNDERSCORE\n",
    "    name = name.replace(\"://\",\"\").replace(\".\",\"_\").replace(\"/\",\"_\")\n",
    "    \n",
    "    # remove last underscore\n",
    "    last_underscore_spot = name.rfind(\"_\")\n",
    "    \n",
    "    name = name[:last_underscore_spot] + name[(last_underscore_spot+1):]\n",
    "\n",
    "    # tack on .txt\n",
    "    name = name + \".txt\"\n",
    "    \n",
    "    return(name)\n"
   ]
  },
  {
   "cell_type": "code",
   "execution_count": 14,
   "metadata": {},
   "outputs": [],
   "source": [
    "output_file_name = generate_filename_from_url(sites[0])"
   ]
  },
  {
   "cell_type": "code",
   "execution_count": 15,
   "metadata": {},
   "outputs": [],
   "source": [
    "with open(output_file_name,'w',encoding = \"UTF-8\") as outfile :\n",
    "    outfile.write(\"\\t\".join([\"link\",\"text\"]) + \"\\n\")\n",
    "    for link in candidate_text :\n",
    "        the_text = candidate_text[link]\n",
    "        \n",
    "        # get rid of some of our more annoying output chars\n",
    "        the_text = the_text.replace(\"\\t\",\" \").replace(\"\\n\",\" \").replace(\"\\r\",\" \") \n",
    "        \n",
    "        if not link :\n",
    "            link = \"empty link\"\n",
    "        \n",
    "        if the_text : # test to see if it is non-empty\n",
    "            outfile.write(\"\\t\".join([link,the_text]) + \"\\n\")\n",
    "        "
   ]
  },
  {
   "cell_type": "markdown",
   "metadata": {},
   "source": [
    "## Exercise\n",
    "\n",
    "Create a new notebook with a name like \"Basic Scraping 2\". Rework this code so that it processes the full \n",
    "list of URLs in \"sites\", creating an output file for each site. Test it by adding a politician or two and scraping\n",
    "them all. "
   ]
  }
 ],
 "metadata": {
  "kernelspec": {
   "display_name": "Python 3 (ipykernel)",
   "language": "python",
   "name": "python3"
  },
  "language_info": {
   "codemirror_mode": {
    "name": "ipython",
    "version": 3
   },
   "file_extension": ".py",
   "mimetype": "text/x-python",
   "name": "python",
   "nbconvert_exporter": "python",
   "pygments_lexer": "ipython3",
   "version": "3.8.8"
  }
 },
 "nbformat": 4,
 "nbformat_minor": 2
}
